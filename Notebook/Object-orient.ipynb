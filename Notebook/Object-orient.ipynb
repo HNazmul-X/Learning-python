{
 "cells": [
  {
   "cell_type": "code",
   "execution_count": 18,
   "source": [
    "class Stack():\r\n",
    "    def __init__(self):\r\n",
    "        self.stack = []\r\n",
    "        self.size =0\r\n",
    "    \r\n",
    "    def push(self,x):\r\n",
    "        self.size = self.size +1\r\n",
    "        return self.stack.append(x)\r\n",
    "    \r\n",
    "    def pop(self):\r\n",
    "        if self.size>0:\r\n",
    "            self.size= self.size -1\r\n",
    "            return self.stack.pop()\r\n",
    "        else:\r\n",
    "            return \"self Already Empty\"\r\n",
    "    \r\n",
    "    def top(self):\r\n",
    "        return self.stack[-1]\r\n",
    "\r\n",
    "x = Stack()\r\n",
    "x.push(\"H Nazmul hassan\")"
   ],
   "outputs": [],
   "metadata": {}
  },
  {
   "cell_type": "code",
   "execution_count": null,
   "source": [
    "while True:\r\n",
    "    site = input(\"Please Enter Your SiteName :\")\r\n",
    "    if site ==\"b\":\r\n",
    "        print(x.pop())\r\n",
    "    elif site ==\"stop\":\r\n",
    "        break\r\n",
    "    else:\r\n",
    "        print(f\"current Site is {x.top()}\")    \r\n",
    "        "
   ],
   "outputs": [],
   "metadata": {}
  },
  {
   "cell_type": "code",
   "execution_count": 1,
   "source": [
    "from tkinter import *\r\n",
    "root = Tk()\r\n",
    "Button(root, text=\"Hello jhony vai\",font=40).pack()\r\n",
    "\r\n",
    "root.mainloop()"
   ],
   "outputs": [],
   "metadata": {}
  }
 ],
 "metadata": {
  "orig_nbformat": 4,
  "language_info": {
   "name": "python",
   "version": "3.9.6",
   "mimetype": "text/x-python",
   "codemirror_mode": {
    "name": "ipython",
    "version": 3
   },
   "pygments_lexer": "ipython3",
   "nbconvert_exporter": "python",
   "file_extension": ".py"
  },
  "kernelspec": {
   "name": "python3",
   "display_name": "Python 3.9.6 64-bit"
  },
  "interpreter": {
   "hash": "63fd5069d213b44bf678585dea6b12cceca9941eaf7f819626cde1f2670de90d"
  }
 },
 "nbformat": 4,
 "nbformat_minor": 2
}