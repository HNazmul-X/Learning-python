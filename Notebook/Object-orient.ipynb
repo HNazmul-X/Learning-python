{
 "cells": [
  {
   "cell_type": "code",
   "execution_count": 30,
   "source": [
    "class Stack():\r\n",
    "    def __init__(self):\r\n",
    "        self.stack = []\r\n",
    "        self.size =0\r\n",
    "    \r\n",
    "    def push(self,x):\r\n",
    "        self.size = self.size +1\r\n",
    "        return self.stack.append(x)\r\n",
    "    \r\n",
    "    def pop(self):\r\n",
    "        if self.size>0:\r\n",
    "            self.size= self.size -1\r\n",
    "            return self.stack.pop()\r\n",
    "        else:\r\n",
    "            return \"self Already Empty\"\r\n",
    "    \r\n",
    "    def top(self):\r\n",
    "        return self.stack[-1]"
   ],
   "outputs": [],
   "metadata": {}
  },
  {
   "cell_type": "code",
   "execution_count": 31,
   "source": [
    "x = Stack()\r\n",
    "x.push(3)\r\n",
    "x.push(5)\r\n",
    "x.push(7)\r\n",
    "print(x.stack)\r\n",
    "print(x.size)"
   ],
   "outputs": [
    {
     "output_type": "stream",
     "name": "stdout",
     "text": [
      "[3, 5, 7]\n",
      "3\n"
     ]
    }
   ],
   "metadata": {}
  },
  {
   "cell_type": "code",
   "execution_count": 32,
   "source": [
    "print(x.pop())"
   ],
   "outputs": [
    {
     "output_type": "stream",
     "name": "stdout",
     "text": [
      "7\n"
     ]
    }
   ],
   "metadata": {}
  },
  {
   "cell_type": "code",
   "execution_count": 33,
   "source": [
    "print(x.size)\r\n",
    "print(x.stack)"
   ],
   "outputs": [
    {
     "output_type": "stream",
     "name": "stdout",
     "text": [
      "2\n",
      "[3, 5]\n"
     ]
    }
   ],
   "metadata": {}
  },
  {
   "cell_type": "code",
   "execution_count": 28,
   "source": [
    "list1 = [20,40,50,60,30]\r\n",
    "print(list1.pop())"
   ],
   "outputs": [
    {
     "output_type": "stream",
     "name": "stdout",
     "text": [
      "30\n"
     ]
    }
   ],
   "metadata": {}
  },
  {
   "cell_type": "code",
   "execution_count": 29,
   "source": [
    "list1"
   ],
   "outputs": [
    {
     "output_type": "execute_result",
     "data": {
      "text/plain": [
       "[20, 40, 50, 60]"
      ]
     },
     "metadata": {},
     "execution_count": 29
    }
   ],
   "metadata": {}
  }
 ],
 "metadata": {
  "orig_nbformat": 4,
  "language_info": {
   "name": "python",
   "version": "3.9.6",
   "mimetype": "text/x-python",
   "codemirror_mode": {
    "name": "ipython",
    "version": 3
   },
   "pygments_lexer": "ipython3",
   "nbconvert_exporter": "python",
   "file_extension": ".py"
  },
  "kernelspec": {
   "name": "python3",
   "display_name": "Python 3.9.6 64-bit"
  },
  "interpreter": {
   "hash": "63fd5069d213b44bf678585dea6b12cceca9941eaf7f819626cde1f2670de90d"
  }
 },
 "nbformat": 4,
 "nbformat_minor": 2
}