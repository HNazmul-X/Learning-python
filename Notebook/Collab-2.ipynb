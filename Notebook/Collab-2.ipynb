{
  "nbformat": 4,
  "nbformat_minor": 2,
  "metadata": {
    "colab": {
      "name": "Welcome To Colaboratory",
      "provenance": [],
      "collapsed_sections": [],
      "include_colab_link": true
    },
    "kernelspec": {
      "name": "python3",
      "display_name": "Python 3.9.6 64-bit"
    },
    "language_info": {
      "name": "python",
      "version": "3.9.6",
      "mimetype": "text/x-python",
      "codemirror_mode": {
        "name": "ipython",
        "version": 3
      },
      "pygments_lexer": "ipython3",
      "nbconvert_exporter": "python",
      "file_extension": ".py"
    },
    "interpreter": {
      "hash": "63fd5069d213b44bf678585dea6b12cceca9941eaf7f819626cde1f2670de90d"
    }
  },
  "cells": [
    {
      "cell_type": "code",
      "execution_count": null,
      "source": [
        "myName = (\"H\",\"nazmul\",\"hassan\",\"And\",\"Sabina\",\"yesmin\")\r\n",
        "mylist = [f\"{index} is {name}\" for index,name in enumerate(myName) ]\r\n",
        "print(mylist)"
      ],
      "outputs": [],
      "metadata": {}
    },
    {
      "cell_type": "code",
      "execution_count": null,
      "source": [
        "name = str(input(\"Please Enter Your Name :\"))\r\n",
        "reversName = \"\"\r\n",
        "for i in range(len(name),0,-1):\r\n",
        "    letter = name[i-1]\r\n",
        "    reversName+=letter.lower()\r\n",
        "\r\n",
        "print(reversName) "
      ],
      "outputs": [],
      "metadata": {}
    },
    {
      "cell_type": "code",
      "execution_count": null,
      "source": [
        "name = str(input(\"Please Enter Your Number : \"))\r\n",
        "name = name.lower()\r\n",
        "reverseName = name[::-1]\r\n",
        "print(type(reverseName), reverseName)\r\n"
      ],
      "outputs": [],
      "metadata": {}
    },
    {
      "cell_type": "code",
      "execution_count": 36,
      "source": [
        "mylist3 = [int(input(f\"please enter the {i} Number : \")) for i in range(10)]\r\n"
      ],
      "outputs": [],
      "metadata": {}
    },
    {
      "cell_type": "code",
      "execution_count": 40,
      "source": [
        "print(mylist3)\r\n",
        "biggestNumber = mylist3[0]\r\n",
        "for i in mylist3:\r\n",
        "    if i>biggestNumber:\r\n",
        "        biggestNumber = i\r\n",
        "print(biggestNumber)"
      ],
      "outputs": [
        {
          "output_type": "stream",
          "name": "stdout",
          "text": [
            "[39, 30, 29, 49, 89, 93, 29, 99, 100, 947]\n",
            "947\n"
          ]
        }
      ],
      "metadata": {}
    },
    {
      "cell_type": "code",
      "execution_count": 39,
      "source": [
        "sumoflist3 = mylist3[0]\r\n",
        "for i in mylist3:\r\n",
        "    sumoflist3 = int(sumoflist3)+int(i)\r\n",
        "print(sumoflist3)"
      ],
      "outputs": [
        {
          "output_type": "stream",
          "name": "stdout",
          "text": [
            "1543\n"
          ]
        }
      ],
      "metadata": {}
    },
    {
      "cell_type": "code",
      "execution_count": 43,
      "source": [
        "s = 0\r\n",
        "for i in mylist3:\r\n",
        "    s = s+i\r\n",
        "avg = s/len(mylist3)\r\n",
        "print(avg)"
      ],
      "outputs": [
        {
          "output_type": "stream",
          "name": "stdout",
          "text": [
            "150.4\n"
          ]
        }
      ],
      "metadata": {}
    },
    {
      "cell_type": "code",
      "execution_count": null,
      "source": [],
      "outputs": [],
      "metadata": {}
    }
  ]
}