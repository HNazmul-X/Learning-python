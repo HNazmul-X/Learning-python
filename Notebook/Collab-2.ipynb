{
  "nbformat": 4,
  "nbformat_minor": 2,
  "metadata": {
    "colab": {
      "name": "Welcome To Colaboratory",
      "provenance": [],
      "collapsed_sections": [],
      "include_colab_link": true
    },
    "kernelspec": {
      "name": "python3",
      "display_name": "Python 3.9.6 64-bit"
    },
    "language_info": {
      "name": "python",
      "version": "3.9.6",
      "mimetype": "text/x-python",
      "codemirror_mode": {
        "name": "ipython",
        "version": 3
      },
      "pygments_lexer": "ipython3",
      "nbconvert_exporter": "python",
      "file_extension": ".py"
    },
    "interpreter": {
      "hash": "63fd5069d213b44bf678585dea6b12cceca9941eaf7f819626cde1f2670de90d"
    }
  },
  "cells": [
    {
      "cell_type": "code",
      "execution_count": 4,
      "source": [
        "myList = [1,34,402,4]"
      ],
      "outputs": [],
      "metadata": {
        "id": "Xf8YJQ_aG6_k",
        "outputId": "908e1605-937c-45ed-b24b-034ae3ffb309",
        "colab": {
          "base_uri": "https://localhost:8080/",
          "height": 246
        }
      }
    },
    {
      "cell_type": "code",
      "execution_count": 15,
      "source": [
        "print(myList)\r\n",
        "myDict = {\r\n",
        "    \"sabina\":\"Nazmul Hassan\",\r\n",
        "    \"Nazmul\":\"Sabina Yesmin\",\r\n",
        "    \"isSheLoveHim\":True,\r\n",
        "    \"isHeLoveHer\":False\r\n",
        "}"
      ],
      "outputs": [
        {
          "output_type": "stream",
          "name": "stdout",
          "text": [
            "[1, 34, 402, 4]\n"
          ]
        }
      ],
      "metadata": {}
    },
    {
      "cell_type": "code",
      "execution_count": 22,
      "source": [
        "values = myDict.values()\r\n",
        "for data in values:\r\n",
        "    print(data,end=\"\\n  \\n \\n\")"
      ],
      "outputs": [
        {
          "output_type": "stream",
          "name": "stdout",
          "text": [
            "Nazmul Hassan\n",
            "  \n",
            " \n",
            "Sabina Yesmin\n",
            "  \n",
            " \n",
            "True\n",
            "  \n",
            " \n",
            "False\n",
            "  \n",
            " \n"
          ]
        }
      ],
      "metadata": {}
    }
  ]
}