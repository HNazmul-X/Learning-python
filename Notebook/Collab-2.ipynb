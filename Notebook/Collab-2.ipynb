{
  "nbformat": 4,
  "nbformat_minor": 2,
  "metadata": {
    "colab": {
      "name": "Welcome To Colaboratory",
      "provenance": [],
      "collapsed_sections": [],
      "include_colab_link": true
    },
    "kernelspec": {
      "name": "python3",
      "display_name": "Python 3.9.6 64-bit"
    },
    "language_info": {
      "name": "python",
      "version": "3.9.6",
      "mimetype": "text/x-python",
      "codemirror_mode": {
        "name": "ipython",
        "version": 3
      },
      "pygments_lexer": "ipython3",
      "nbconvert_exporter": "python",
      "file_extension": ".py"
    },
    "interpreter": {
      "hash": "63fd5069d213b44bf678585dea6b12cceca9941eaf7f819626cde1f2670de90d"
    }
  },
  "cells": [
    {
      "cell_type": "markdown",
      "source": [
        "###\r\n",
        "Utilize List"
      ],
      "metadata": {}
    },
    {
      "cell_type": "code",
      "execution_count": null,
      "source": [
        "myName = (\"H\",\"nazmul\",\"hassan\",\"And\",\"Sabina\",\"yesmin\")\r\n",
        "mylist = [f\"{index} is {name}\" for index,name in enumerate(myName) ]\r\n",
        "print(mylist)"
      ],
      "outputs": [],
      "metadata": {}
    },
    {
      "cell_type": "code",
      "execution_count": null,
      "source": [
        "name = str(input(\"Please Enter Your Name :\"))\r\n",
        "reversName = \"\"\r\n",
        "for i in range(len(name),0,-1):\r\n",
        "    letter = name[i-1]\r\n",
        "    reversName+=letter.lower()\r\n",
        "print(reversName) "
      ],
      "outputs": [],
      "metadata": {}
    },
    {
      "cell_type": "code",
      "execution_count": null,
      "source": [
        "name = str(input(\"Please Enter Your Number : \"))\r\n",
        "name = name.lower()\r\n",
        "reverseName = name[::-1]\r\n",
        "print(type(reverseName), reverseName)\r\n"
      ],
      "outputs": [],
      "metadata": {}
    },
    {
      "cell_type": "code",
      "execution_count": null,
      "source": [
        "mylist3 = [int(input(f\"please enter the {i} Number : \")) for i in range(10)]\r\n"
      ],
      "outputs": [],
      "metadata": {}
    },
    {
      "cell_type": "code",
      "execution_count": null,
      "source": [
        "print(mylist3)\r\n",
        "biggestNumber = mylist3[0]\r\n",
        "for i in mylist3:\r\n",
        "    if i>biggestNumber:\r\n",
        "        biggestNumber = i\r\n",
        "print(biggestNumber)"
      ],
      "outputs": [],
      "metadata": {}
    },
    {
      "cell_type": "code",
      "execution_count": null,
      "source": [
        "sumoflist3 = mylist3[0]\r\n",
        "for i in mylist3:\r\n",
        "    sumoflist3 = int(sumoflist3)+int(i)\r\n",
        "print(sumoflist3)"
      ],
      "outputs": [],
      "metadata": {}
    },
    {
      "cell_type": "code",
      "execution_count": null,
      "source": [
        "s = 0\r\n",
        "for i in mylist3:\r\n",
        "    s = s+i\r\n",
        "avg = s/len(mylist3)\r\n",
        "print(avg)"
      ],
      "outputs": [],
      "metadata": {}
    },
    {
      "cell_type": "code",
      "execution_count": null,
      "source": [
        "i=0\r\n",
        "while i<10:\r\n",
        "    j= 0\r\n",
        "    while j<i:\r\n",
        "        print(i,end=\"\")\r\n",
        "        j=j+1\r\n",
        "    i=i+1\r\n",
        "    print()"
      ],
      "outputs": [],
      "metadata": {}
    },
    {
      "cell_type": "code",
      "execution_count": null,
      "source": [
        "x = int(input(\"Enter Your Checking Number : \"))\r\n",
        "for i in range(2,x):\r\n",
        "    if x%i==0:\r\n",
        "        print(\"Not a Prime Number\")\r\n",
        "        break\r\n",
        "    else:\r\n",
        "        print(\"Prime Number\")\r\n",
        "        break"
      ],
      "outputs": [],
      "metadata": {}
    },
    {
      "cell_type": "code",
      "execution_count": null,
      "source": [
        "x = int(input(\"Enter Your Checking Number : \"))\r\n",
        "isPrime = True\r\n",
        "for i in range(2,x):\r\n",
        "    if x%2==0:\r\n",
        "        isPrime = False\r\n",
        "        break\r\n",
        "print(\"Prime Number\") if isPrime else print(\"None\")"
      ],
      "outputs": [],
      "metadata": {}
    },
    {
      "cell_type": "markdown",
      "source": [
        "Learning User Defined Function\r\n",
        "### "
      ],
      "metadata": {}
    },
    {
      "cell_type": "code",
      "execution_count": null,
      "source": [
        "def isPrime(x=\"\"):\r\n",
        "    for i in range(2,x):\r\n",
        "        if x%i==0:\r\n",
        "            return False\r\n",
        "        return True\r\n",
        "    return \"Please give any Input Number\"\r\n",
        "\r\n",
        "\r\n",
        "print(isPrime(17))"
      ],
      "outputs": [],
      "metadata": {}
    },
    {
      "cell_type": "code",
      "execution_count": null,
      "source": [
        "def f(a,b):\r\n",
        "    return a+b,a-b,a*b\r\n",
        "x,y,z = f(50,49)\r\n",
        "print(x,y,z)\r\n"
      ],
      "outputs": [],
      "metadata": {}
    },
    {
      "cell_type": "code",
      "execution_count": null,
      "source": [
        "def isPerfectNumber(n):\r\n",
        "    factors = [number for number in range(1,n) if n%number==0]\r\n",
        "    sum_all = sum(factors)\r\n",
        "    return True if sum_all== n else False\r\n",
        "    \r\n"
      ],
      "outputs": [],
      "metadata": {}
    },
    {
      "cell_type": "code",
      "execution_count": null,
      "source": [
        "#checking Prime number in 10000\r\n",
        "for i in range(1,20000):\r\n",
        "    if isPerfectNumber(i):\r\n",
        "        print(i)"
      ],
      "outputs": [],
      "metadata": {}
    },
    {
      "cell_type": "markdown",
      "source": [
        "###\r\n",
        "Function As a Argument Learning "
      ],
      "metadata": {}
    },
    {
      "cell_type": "code",
      "execution_count": null,
      "source": [
        "mySum = lambda a,b:a+b\r\n",
        "mySub = lambda a,b:a-b\r\n",
        "myTimes = lambda a,b:a*b\r\n",
        "myDiv = lambda a,b:a/b\r\n",
        "def func(a,b,function=lambda x,y:f\"what i Have to do with {x} and {y}\"):\r\n",
        "    return int(function(a, b))\r\n",
        "print(func(39,49,myTimes))\r\n"
      ],
      "outputs": [],
      "metadata": {}
    },
    {
      "cell_type": "code",
      "execution_count": null,
      "source": [
        "import re\r\n",
        "myStr = input(\"Please Enter Your math\")\r\n",
        "operator = re.findall(r\"[-+/*]\",myStr)\r\n",
        "splited = re.split(r\"[-+*/]\",myStr)\r\n",
        "mylist = [int(number) for number in splited  ]\r\n",
        "\r\n",
        "result = mylist[0]\r\n",
        "for index,operator in enumerate(operator):\r\n",
        "    if operator ==\"+\":\r\n",
        "        result = func(result,mylist[index+1],mySum)\r\n",
        "        print(result)\r\n",
        "    elif operator ==\"-\":\r\n",
        "        result = func(result, mylist[index+1], mySub)\r\n",
        "        print(result)\r\n",
        "    elif operator ==\"*\":\r\n",
        "        result = func(result, mylist[index+1], myTimes)\r\n",
        "        print(result)\r\n",
        "    elif operator ==\"/\":\r\n",
        "        result = func(result, mylist[index+1], myDiv)\r\n",
        "        print(result)"
      ],
      "outputs": [],
      "metadata": {}
    },
    {
      "cell_type": "code",
      "execution_count": null,
      "source": [
        "x = input(\"Please Enter Your Math\")\r\n",
        "operation = x[:3]\r\n",
        "\r\n",
        "i = 4\r\n",
        "while x[i] != \" \":\r\n",
        "    i += 1\r\n",
        "\r\n",
        "n1 = int(x[4:i])\r\n",
        "n2 = int(x[i+1:])\r\n",
        "\r\n",
        "if operation == \"sum\":\r\n",
        "    print(func(n1,n2,mySum))\r\n",
        "elif operation == \"sub\":\r\n",
        "    print(func(n1, n2, mySub))\r\n",
        "elif operation == \"mul\":\r\n",
        "    print(func(n1, n2, myTimes))\r\n",
        "elif operation == \"div\":\r\n",
        "    print(func(n1, n2, myDiv))\r\n",
        "\r\n",
        "print(n1,n2)"
      ],
      "outputs": [],
      "metadata": {}
    },
    {
      "cell_type": "code",
      "execution_count": null,
      "source": [
        "def fibo(n):\r\n",
        "    if n ==1:\r\n",
        "        return 0\r\n",
        "    elif n ==2:\r\n",
        "        return 1   \r\n",
        "    else:\r\n",
        "        return fibo(n-1)+fibo(n-2)\r\n",
        "    \r\n",
        "print(fibo(9))"
      ],
      "outputs": [],
      "metadata": {}
    },
    {
      "cell_type": "code",
      "execution_count": 10,
      "source": [
        "import math\r\n",
        "\r\n",
        "def fibo2(n):\r\n",
        "    if n==1:\r\n",
        "        return 4\r\n",
        "    elif n==2:\r\n",
        "        return 3\r\n",
        "    else:\r\n",
        "        return math.fabs(fibo2(n-1)**2 - fibo2(n-2)**2)\r\n",
        "\r\n",
        "print(fibo2(3))\r\n"
      ],
      "outputs": [
        {
          "output_type": "stream",
          "name": "stdout",
          "text": [
            "7.0\n"
          ]
        }
      ],
      "metadata": {}
    },
    {
      "cell_type": "code",
      "execution_count": 9,
      "source": [
        "math.factorial(7)"
      ],
      "outputs": [
        {
          "output_type": "execute_result",
          "data": {
            "text/plain": [
              "5040"
            ]
          },
          "metadata": {},
          "execution_count": 9
        }
      ],
      "metadata": {}
    }
  ]
}