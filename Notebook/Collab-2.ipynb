{
  "nbformat": 4,
  "nbformat_minor": 2,
  "metadata": {
    "colab": {
      "name": "Welcome To Colaboratory",
      "provenance": [],
      "collapsed_sections": [],
      "include_colab_link": true
    },
    "kernelspec": {
      "name": "python3",
      "display_name": "Python 3.9.6 64-bit"
    },
    "language_info": {
      "name": "python",
      "version": "3.9.6",
      "mimetype": "text/x-python",
      "codemirror_mode": {
        "name": "ipython",
        "version": 3
      },
      "pygments_lexer": "ipython3",
      "nbconvert_exporter": "python",
      "file_extension": ".py"
    },
    "interpreter": {
      "hash": "63fd5069d213b44bf678585dea6b12cceca9941eaf7f819626cde1f2670de90d"
    }
  },
  "cells": [
    {
      "cell_type": "code",
      "execution_count": null,
      "source": [
        "myName = (\"H\",\"nazmul\",\"hassan\",\"And\",\"Sabina\",\"yesmin\")\r\n",
        "mylist = [f\"{index} is {name}\" for index,name in enumerate(myName) ]\r\n",
        "print(mylist)"
      ],
      "outputs": [],
      "metadata": {}
    },
    {
      "cell_type": "code",
      "execution_count": null,
      "source": [
        "name = str(input(\"Please Enter Your Name :\"))\r\n",
        "reversName = \"\"\r\n",
        "for i in range(len(name),0,-1):\r\n",
        "    letter = name[i-1]\r\n",
        "    reversName+=letter.lower()\r\n",
        "\r\n",
        "print(reversName) "
      ],
      "outputs": [],
      "metadata": {}
    },
    {
      "cell_type": "code",
      "execution_count": null,
      "source": [
        "name = str(input(\"Please Enter Your Number : \"))\r\n",
        "name = name.lower()\r\n",
        "reverseName = name[::-1]\r\n",
        "print(type(reverseName), reverseName)\r\n"
      ],
      "outputs": [],
      "metadata": {}
    },
    {
      "cell_type": "code",
      "execution_count": null,
      "source": [
        "mylist3 = [int(input(f\"please enter the {i} Number : \")) for i in range(10)]\r\n"
      ],
      "outputs": [],
      "metadata": {}
    },
    {
      "cell_type": "code",
      "execution_count": null,
      "source": [
        "print(mylist3)\r\n",
        "biggestNumber = mylist3[0]\r\n",
        "for i in mylist3:\r\n",
        "    if i>biggestNumber:\r\n",
        "        biggestNumber = i\r\n",
        "print(biggestNumber)"
      ],
      "outputs": [],
      "metadata": {}
    },
    {
      "cell_type": "code",
      "execution_count": null,
      "source": [
        "sumoflist3 = mylist3[0]\r\n",
        "for i in mylist3:\r\n",
        "    sumoflist3 = int(sumoflist3)+int(i)\r\n",
        "print(sumoflist3)"
      ],
      "outputs": [],
      "metadata": {}
    },
    {
      "cell_type": "code",
      "execution_count": null,
      "source": [
        "s = 0\r\n",
        "for i in mylist3:\r\n",
        "    s = s+i\r\n",
        "avg = s/len(mylist3)\r\n",
        "print(avg)"
      ],
      "outputs": [],
      "metadata": {}
    },
    {
      "cell_type": "code",
      "execution_count": null,
      "source": [
        "i=0\r\n",
        "while i<10:\r\n",
        "    j= 0\r\n",
        "    while j<i:\r\n",
        "        print(i,end=\"\")\r\n",
        "        j=j+1\r\n",
        "    i=i+1\r\n",
        "    print()"
      ],
      "outputs": [],
      "metadata": {}
    },
    {
      "cell_type": "code",
      "execution_count": null,
      "source": [
        "x = int(input(\"Enter Your Checking Number : \"))\r\n",
        "for i in range(2,x):\r\n",
        "    if x%i==0:\r\n",
        "        print(\"Not a Prime Number\")\r\n",
        "        break\r\n",
        "    else:\r\n",
        "        print(\"Prime Number\")\r\n",
        "        break"
      ],
      "outputs": [],
      "metadata": {}
    },
    {
      "cell_type": "code",
      "execution_count": null,
      "source": [
        "x = int(input(\"Enter Your Checking Number : \"))\r\n",
        "isPrime = True\r\n",
        "for i in range(2,x):\r\n",
        "    if x%2==0:\r\n",
        "        isPrime = False\r\n",
        "        break\r\n",
        "print(\"Prime Number\") if isPrime else print(\"None\")"
      ],
      "outputs": [],
      "metadata": {}
    },
    {
      "cell_type": "code",
      "execution_count": null,
      "source": [
        "def isPrime(x=\"\"):\r\n",
        "    for i in range(2,x):\r\n",
        "        if x%i==0:\r\n",
        "            return False\r\n",
        "        return True\r\n",
        "    return \"Please give any Input Number\"\r\n",
        "\r\n",
        "\r\n",
        "print(isPrime(17))"
      ],
      "outputs": [],
      "metadata": {}
    },
    {
      "cell_type": "code",
      "execution_count": 37,
      "source": [
        "def f(a,b):\r\n",
        "    return a+b,a-b,a*b\r\n",
        "x,y,z = f(50,49)\r\n",
        "print(x,y,z)\r\n"
      ],
      "outputs": [
        {
          "output_type": "stream",
          "name": "stdout",
          "text": [
            "99 1 2450\n"
          ]
        }
      ],
      "metadata": {}
    }
  ]
}