{
 "cells": [
  {
   "cell_type": "code",
   "execution_count": null,
   "source": [
    "file = open(\"../input.txt\")\r\n",
    "allsum = 0\r\n",
    "for line in file:\r\n",
    "    s = int(2)\r\n",
    "    numberList = line.split()\r\n",
    "    for n in numberList:\r\n",
    "        s = s+int(n)\r\n",
    "    allsum = allsum+int(s)\r\n",
    "print(allsum)"
   ],
   "outputs": [],
   "metadata": {}
  },
  {
   "cell_type": "code",
   "execution_count": 2,
   "source": [
    "import math\r\n",
    "\r\n",
    "file = open(\"../output.txt\",\"w\")\r\n",
    "for i in range(0,10000):\r\n",
    "    if(i%2==0):\r\n",
    "        continue\r\n",
    "    else:\r\n",
    "        file.write(f\"{i}\")\r\n",
    "file.close()\r\n"
   ],
   "outputs": [],
   "metadata": {}
  },
  {
   "cell_type": "markdown",
   "source": [
    "###\r\n",
    "THIS PROGRAM IS FOR SHOWING OUTPUT AT A FILE FROM ANOTHER lARGE FILE"
   ],
   "metadata": {}
  },
  {
   "cell_type": "code",
   "execution_count": null,
   "source": [
    "inputFile = open(\"./Country.txt\",\"r\")\r\n",
    "countryList = [line.split() for line in inputFile]"
   ],
   "outputs": [],
   "metadata": {}
  },
  {
   "cell_type": "code",
   "execution_count": null,
   "source": [
    "capital = {}\r\n",
    "currency = {}\r\n",
    "for data in countryList:\r\n",
    "    key = data[0].lower()\r\n",
    "    country_value = data[1].lower()\r\n",
    "    currency_value = data[2].lower()\r\n",
    "    capital[key] = country_value\r\n",
    "    currency[key]=currency_value"
   ],
   "outputs": [],
   "metadata": {}
  },
  {
   "cell_type": "code",
   "execution_count": 56,
   "source": [
    "outputFile = open(\"./output file.txt\",\"w\")\r\n",
    "userInput = input(\"Enter Your Curious Country Name: \").lower()\r\n",
    "\r\n",
    "if userInput not in capital:\r\n",
    "    print(\"not yet\") \r\n",
    "else :\r\n",
    "    outputFile.write(\r\n",
    "        f\"The Capital of {userInput} is {capital[userInput].capitalize()} \\n\" +\r\n",
    "        f\"The Currency of {userInput} is {currency[userInput].capitalize()} \\n\" )\r\n",
    "    outputFile.close()\r\n"
   ],
   "outputs": [],
   "metadata": {}
  },
  {
   "cell_type": "code",
   "execution_count": null,
   "source": [
    "mylist = [70, 60, 80, 90, 50]\r\n",
    "filtered = list(filter(lambda item: item > 30, mylist))\r\n",
    "print(filtered)"
   ],
   "outputs": [],
   "metadata": {}
  },
  {
   "cell_type": "markdown",
   "source": [
    "### \r\n",
    "WORKING WITH CSV FILE AND PANDAS LIBRARY"
   ],
   "metadata": {}
  },
  {
   "cell_type": "code",
   "execution_count": 1,
   "source": [
    "import pandas as pd\r\n",
    "file = pd.read_csv(\"./Country.txt\",delimiter=\" \")\r\n",
    "countryList =file[\"Country\"]\r\n",
    "capitalList = file[\"Capital\"]\r\n",
    "currencyList = file[\"Currency\"]\r\n",
    "\r\n",
    "#making a Dictionary\r\n",
    "countryDict = {}\r\n",
    "for index,value in enumerate(countryList):\r\n",
    "    countryDict[countryList[index]] = {\"capital\":capitalList[index],\"currency\":currencyList[index]}\r\n",
    "\r\n",
    "print(countryDict)"
   ],
   "outputs": [
    {
     "output_type": "stream",
     "name": "stdout",
     "text": [
      "{'Bangladesh': {'capital': 'Dhaka', 'currency': 'Taka'}, 'India': {'capital': 'New-Delhi', 'currency': 'Rupees'}, 'China': {'capital': 'Beijing', 'currency': 'Renminbi'}, 'Srilanka': {'capital': 'Colombo', 'currency': 'Rupees'}, 'USA': {'capital': 'New-York', 'currency': 'Dollars'}}\n"
     ]
    }
   ],
   "metadata": {}
  },
  {
   "cell_type": "code",
   "execution_count": null,
   "source": [
    "for country in file:\r\n",
    "    print(country)"
   ],
   "outputs": [],
   "metadata": {}
  }
 ],
 "metadata": {
  "orig_nbformat": 4,
  "language_info": {
   "name": "python",
   "version": "3.9.6",
   "mimetype": "text/x-python",
   "codemirror_mode": {
    "name": "ipython",
    "version": 3
   },
   "pygments_lexer": "ipython3",
   "nbconvert_exporter": "python",
   "file_extension": ".py"
  },
  "kernelspec": {
   "name": "python3",
   "display_name": "Python 3.9.6 64-bit"
  },
  "interpreter": {
   "hash": "63fd5069d213b44bf678585dea6b12cceca9941eaf7f819626cde1f2670de90d"
  }
 },
 "nbformat": 4,
 "nbformat_minor": 2
}