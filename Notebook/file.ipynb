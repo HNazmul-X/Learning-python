{
 "cells": [
  {
   "cell_type": "markdown",
   "source": [
    "###\r\n",
    "Practicing With File System in python"
   ],
   "metadata": {}
  },
  {
   "cell_type": "code",
   "execution_count": 2,
   "source": [
    "import math\r\n",
    "\r\n",
    "file = open(\"../output.txt\",\"w\")\r\n",
    "for i in range(0,10000):\r\n",
    "    if(i%2==0):\r\n",
    "        continue\r\n",
    "    else:\r\n",
    "        file.write(f\"{i}\")\r\n",
    "file.close()\r\n"
   ],
   "outputs": [],
   "metadata": {}
  },
  {
   "cell_type": "code",
   "execution_count": null,
   "source": [
    "file = open(\"../input.txt\")\r\n",
    "allsum = 0\r\n",
    "for line in file:\r\n",
    "    s = int(2)\r\n",
    "    numberList = line.split()\r\n",
    "    for n in numberList:\r\n",
    "        s = s+int(n)\r\n",
    "    allsum = allsum+int(s)\r\n",
    "print(allsum)"
   ],
   "outputs": [],
   "metadata": {}
  }
 ],
 "metadata": {
  "orig_nbformat": 4,
  "language_info": {
   "name": "python",
   "version": "3.9.6",
   "mimetype": "text/x-python",
   "codemirror_mode": {
    "name": "ipython",
    "version": 3
   },
   "pygments_lexer": "ipython3",
   "nbconvert_exporter": "python",
   "file_extension": ".py"
  },
  "kernelspec": {
   "name": "python3",
   "display_name": "Python 3.9.6 64-bit"
  },
  "interpreter": {
   "hash": "63fd5069d213b44bf678585dea6b12cceca9941eaf7f819626cde1f2670de90d"
  }
 },
 "nbformat": 4,
 "nbformat_minor": 2
}